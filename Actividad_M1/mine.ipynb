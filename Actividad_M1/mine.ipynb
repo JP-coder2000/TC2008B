{
 "cells": [
  {
   "cell_type": "code",
   "execution_count": 128,
   "metadata": {},
   "outputs": [],
   "source": [
    "from mesa import Agent, Model\n",
    "from mesa.space import MultiGrid\n",
    "from mesa.time import RandomActivation\n",
    "from mesa.datacollection import DataCollector\n",
    "import matplotlib.pyplot as plt\n",
    "import matplotlib.animation as animation\n",
    "import numpy as np\n",
    "import random\n",
    "import pandas as pd\n",
    "import time\n",
    "import datetime"
   ]
  },
  {
   "cell_type": "code",
   "execution_count": 129,
   "metadata": {},
   "outputs": [],
   "source": [
    "class VacumAgent(Agent):\n",
    "    def __init__(self, id, model):\n",
    "        super().__init__(id, model)\n",
    "\n",
    "    def move(self):\n",
    "        possible_steps = self.model.grid.get_neighborhood(self.pos, moore=True, include_center=False)\n",
    "        new_position = random.choice(possible_steps)\n",
    "        self.model.grid.move_agent(self, new_position)\n",
    "\n",
    "    def step(self):\n",
    "        if self.model.is_dirt(self.pos):\n",
    "            self.model.clean_dirt(self.pos)\n",
    "            self.move()\n",
    "        else:\n",
    "            # Move to a random neighbor cell, but check first if in that cell there isn't another agent\n",
    "            self.move()"
   ]
  },
  {
   "cell_type": "code",
   "execution_count": 130,
   "metadata": {},
   "outputs": [],
   "source": [
    "class VacumModel(Model):\n",
    "    def __init__(self,width,height, num_agents, max_steps, dirty_cells):\n",
    "        self.num_agents = num_agents\n",
    "        self.max_steps = max_steps\n",
    "        self.schedule = RandomActivation(self)\n",
    "        self.grid = MultiGrid(width, height, torus=False)\n",
    "        self.steps = 0\n",
    "        self.dirty_cells = dirty_cells\n",
    "        self.dirt = np.zeros((width, height))\n",
    "\n",
    "        # Calculate the number of dirty cells\n",
    "        num_dirty_cells = int(dirty_cells * width * height)\n",
    "\n",
    "        # Create a list of dirty cells\n",
    "        matrix = [(x,y) for x in range(width) for y in range(height)]\n",
    "        random.shuffle(matrix)\n",
    "        dirty_cells = matrix[:num_dirty_cells]\n",
    "        for cell in dirty_cells:\n",
    "            self.dirt[cell] = 1\n",
    "\n",
    "        # Create agents\n",
    "        for i in range(num_agents):\n",
    "            a = VacumAgent(i, self)\n",
    "            self.schedule.add(a) #########\n",
    "            self.grid.place_agent(a, (1, 1))\n",
    "\n",
    "    def count_dirt(self):\n",
    "        # Count the number of dirty cells\n",
    "        return sum(cell == 1 for cell in self.dirt.flatten())\n",
    "    \n",
    "\n",
    "    def is_dirt(self, pos):\n",
    "        return self.dirt[pos[0], pos[1]] == 1\n",
    "\n",
    "\n",
    "    def clean_dirt(self, pos):\n",
    "        self.dirt[pos[0]][pos[1]] = 0\n",
    "\n",
    "    def step(self):\n",
    "        self.schedule.step()\n",
    "        self.steps += 1"
   ]
  },
  {
   "cell_type": "code",
   "execution_count": 131,
   "metadata": {},
   "outputs": [],
   "source": [
    "def run_model(width, height, num_agents, max_steps, dirty_cells):\n",
    "    model = VacumModel(width, height, num_agents, max_steps, dirty_cells)\n",
    "    for step in range(max_steps):\n",
    "        model.step()\n",
    "        if np.all(model.dirt == 0):\n",
    "            return (\n",
    "                step,\n",
    "                (1 - np.mean(model.dirt)) * 100\n",
    "            )\n",
    "    return (\n",
    "        max_steps,\n",
    "        (1 - np.mean(model.dirt)) * 100\n",
    "    )"
   ]
  },
  {
   "cell_type": "code",
   "execution_count": 132,
   "metadata": {},
   "outputs": [
    {
     "name": "stdout",
     "output_type": "stream",
     "text": [
      "Tiempo total de la ejecución:  1.9473888874053955\n",
      "Número de pasos realizados: 100000\n",
      "Porcentaje de celdas limpias: 90.42999999999999%\n"
     ]
    }
   ],
   "source": [
    "WIDTH = 100\n",
    "HEIGHT = 100\n",
    "NUM_AGENTS = 1\n",
    "MAX_STEPS = 100000\n",
    "DIRTY_CELLS = 0.8\n",
    "\n",
    "start_time = time.time()\n",
    "result = run_model(WIDTH, HEIGHT, NUM_AGENTS, MAX_STEPS, DIRTY_CELLS)\n",
    "total_time = time.time() - start_time\n",
    "\n",
    "print(\"Tiempo total de la ejecución: \", total_time)\n",
    "print(\"Número de pasos realizados: \" + str(result[0]))\n",
    "print(\"Porcentaje de celdas limpias: \" + str(result[1]) + \"%\")"
   ]
  }
 ],
 "metadata": {
  "kernelspec": {
   "display_name": "Python 3",
   "language": "python",
   "name": "python3"
  },
  "language_info": {
   "codemirror_mode": {
    "name": "ipython",
    "version": 3
   },
   "file_extension": ".py",
   "mimetype": "text/x-python",
   "name": "python",
   "nbconvert_exporter": "python",
   "pygments_lexer": "ipython3",
   "version": "3.11.1"
  }
 },
 "nbformat": 4,
 "nbformat_minor": 2
}
