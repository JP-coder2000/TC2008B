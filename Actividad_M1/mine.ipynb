{
 "cells": [
  {
   "cell_type": "code",
   "execution_count": 229,
   "metadata": {},
   "outputs": [],
   "source": [
    "from mesa import Agent, Model\n",
    "from mesa.space import MultiGrid\n",
    "from mesa.time import RandomActivation\n",
    "\n",
    "import numpy as np\n",
    "import random\n",
    "import time"
   ]
  },
  {
   "cell_type": "code",
   "execution_count": 230,
   "metadata": {},
   "outputs": [],
   "source": [
    "class VacumAgent(Agent):\n",
    "    def __init__(self, id, model):\n",
    "        # Inicializamos el agente con su identificador y el modelo al que pertenece\n",
    "        super().__init__(id, model)\n",
    "\n",
    "    # Esta función permite al agente moverse a una posición aleatoria en su vecindario\n",
    "    def move(self):\n",
    "        # Obtenemos todas las posiciones posibles a las que el agente puede moverse\n",
    "        possible_steps = self.model.grid.get_neighborhood(\n",
    "            self.pos, moore=True, include_center=False)\n",
    "        # Elegimos una posición aleatoria de las posiciones posibles\n",
    "        new_position = random.choice(possible_steps)\n",
    "        # Movemos al agente a la nueva posición\n",
    "        self.model.grid.move_agent(self, new_position)\n",
    "\n",
    "    # Esta función define el comportamiento del agente en cada paso de la simulación\n",
    "    def step(self):\n",
    "        # Si la posición actual del agente está sucia\n",
    "        if self.model.is_dirt(self.pos):\n",
    "            # El agente limpia la suciedad\n",
    "            self.model.clean_dirt(self.pos)\n",
    "            # Luego se mueve a una nueva posición\n",
    "            self.move()\n",
    "        else:\n",
    "            # Si la posición actual no está sucia, el agente simplemente se mueve a una nueva posición\n",
    "            self.move()"
   ]
  },
  {
   "cell_type": "code",
   "execution_count": 231,
   "metadata": {},
   "outputs": [],
   "source": [
    "class VacumModel(Model):\n",
    "    def __init__(self, width, height, num_agents, max_steps, dirty_cells):\n",
    "        self.num_agents = num_agents\n",
    "        self.max_steps = max_steps\n",
    "        self.dirty_cells = dirty_cells\n",
    "        self.grid = MultiGrid(width, height, torus=False)\n",
    "\n",
    "        # creamos la matriz de ceros\n",
    "        self.dirt = np.zeros((width, height))\n",
    "\n",
    "        # Activamos de forma aleatoria en los agentes\n",
    "        self.schedule = RandomActivation(self)\n",
    "\n",
    "        self.steps = 0  # Contador de pasos\n",
    "\n",
    "        # Calculamos el número de celdas sucias\n",
    "        num_dirty_cells = int(dirty_cells * width * height)\n",
    "\n",
    "        # Crea una lista de celdas sucias\n",
    "        matrix = [(x, y) for x in range(width) for y in range(height)]\n",
    "        random.shuffle(matrix)\n",
    "        dirty_cells = matrix[:num_dirty_cells]\n",
    "        for cell in dirty_cells:\n",
    "            self.dirt[cell] = 1  # Marca las celdas sucias en la matriz\n",
    "\n",
    "        # Inicializa nuestros agentes\n",
    "        for i in range(num_agents):\n",
    "            a = VacumAgent(i, self)  # Crea un nuevo agente\n",
    "            # Coloca el agente en la posición (1,1)\n",
    "            self.grid.place_agent(a, (1, 1))\n",
    "            self.schedule.add(a)  # Añade el agente a la matriz\n",
    "\n",
    "    def count_dirt(self):\n",
    "        # Cuenta el número de celdas sucias\n",
    "        return sum(cell == 1 for cell in self.dirt.flatten())\n",
    "\n",
    "    def is_dirt(self, pos):\n",
    "        # Comprueba si una celda está sucia\n",
    "        return self.dirt[pos[0], pos[1]] == 1\n",
    "\n",
    "    def clean_dirt(self, pos):\n",
    "        # Limpia una celda\n",
    "        self.dirt[pos[0]][pos[1]] = 0\n",
    "\n",
    "    def step(self):\n",
    "        # Realiza un paso en la simulación\n",
    "        self.schedule.step()\n",
    "        self.steps += 1  # Incrementa el contador de pasos"
   ]
  },
  {
   "cell_type": "code",
   "execution_count": 232,
   "metadata": {},
   "outputs": [],
   "source": [
    "def run_model(grid_width, grid_height, agent_count, max_iterations, dirty_ratio):\n",
    "    # Create an instance of the model with the provided parameters\n",
    "    simulation_model = VacumModel(\n",
    "        grid_width, grid_height, agent_count, max_iterations, dirty_ratio)\n",
    "\n",
    "    # Initialize iteration counter\n",
    "    iteration = 0\n",
    "\n",
    "    # Run the simulation until all cells are clean or we reach the maximum number of iterations\n",
    "    while iteration < max_iterations and np.any(simulation_model.dirt == 1):\n",
    "        # On each iteration, every agent in the model performs an action\n",
    "        simulation_model.step()\n",
    "\n",
    "        # Increment the iteration counter\n",
    "        iteration += 1\n",
    "\n",
    "    # Return the number of iterations and the percentage of clean cells\n",
    "    return (\n",
    "        iteration,\n",
    "        (1 - np.mean(simulation_model.dirt)) * 100\n",
    "    )"
   ]
  },
  {
   "cell_type": "code",
   "execution_count": 233,
   "metadata": {},
   "outputs": [
    {
     "name": "stdout",
     "output_type": "stream",
     "text": [
      "Tiempo total de la ejecución:  2.1925082206726074\n",
      "Número de pasos realizados: 28416\n",
      "Porcentaje de celdas limpias: 100.0%\n"
     ]
    }
   ],
   "source": [
    "WIDTH = 100\n",
    "HEIGHT = 100\n",
    "NUM_AGENTS = 10\n",
    "MAX_STEPS = 1000000\n",
    "DIRTY_CELLS = 0.9\n",
    "\n",
    "start_time = time.time()\n",
    "result = run_model(WIDTH, HEIGHT, NUM_AGENTS, MAX_STEPS, DIRTY_CELLS)\n",
    "total_time = time.time() - start_time\n",
    "\n",
    "print(\"Tiempo total de la ejecución: \", total_time)\n",
    "print(\"Número de pasos realizados: \" + str(result[0]))\n",
    "print(\"Porcentaje de celdas limpias: \" + str(result[1]) + \"%\")"
   ]
  }
 ],
 "metadata": {
  "kernelspec": {
   "display_name": "Python 3",
   "language": "python",
   "name": "python3"
  },
  "language_info": {
   "codemirror_mode": {
    "name": "ipython",
    "version": 3
   },
   "file_extension": ".py",
   "mimetype": "text/x-python",
   "name": "python",
   "nbconvert_exporter": "python",
   "pygments_lexer": "ipython3",
   "version": "3.11.1"
  }
 },
 "nbformat": 4,
 "nbformat_minor": 2
}
