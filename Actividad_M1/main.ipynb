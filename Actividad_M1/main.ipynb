{
 "cells": [
  {
   "cell_type": "code",
   "execution_count": 1,
   "metadata": {},
   "outputs": [],
   "source": [
    "from mesa import Agent, Model\n",
    "from mesa.space import MultiGrid\n",
    "from mesa.time import RandomActivation\n",
    "\n",
    "import numpy as np\n",
    "import random\n",
    "import time"
   ]
  },
  {
   "cell_type": "code",
   "execution_count": 2,
   "metadata": {},
   "outputs": [],
   "source": [
    "#En esta parte estoy creando al agente y definiendo las acciones que puede realizar\n",
    "class VacumAgent(Agent):\n",
    "    def __init__(self, id, model):\n",
    "        super().__init__(id, model)\n",
    "\n",
    "    # Esta función permite al agente moverse a una posición aleatoria en su \"vecindario\", me baso en el código que hicimos en \"game of life\".\n",
    "    def move(self):\n",
    "        possible_steps = self.model.grid.get_neighborhood(\n",
    "            self.pos, moore=True, include_center=False)\n",
    "        new_position = random.choice(possible_steps)\n",
    "        self.model.grid.move_agent(self, new_position)\n",
    "\n",
    "    # Esta funcion es para cuando el agente llega a una nueva celda que es lo que tiene que hacer, ya sea limpiar la celda o moverse.\n",
    "    def step(self):\n",
    "        if self.model.is_dirt(self.pos):\n",
    "            self.model.clean_dirt(self.pos)\n",
    "            self.move()\n",
    "        else:\n",
    "            self.move()"
   ]
  },
  {
   "cell_type": "code",
   "execution_count": 3,
   "metadata": {},
   "outputs": [],
   "source": [
    "# En esta parte estamos haciedo el modelo de lo que va a hacer el agente, como se va a mover, cuantas celdas sucias hay, etc.\n",
    "# Para la generación de la matriz y de como darle los valores de \"sucio\" a esa matriz, me base en el segretation model.\n",
    "class VacumModel(Model):\n",
    "    def __init__(self, width, height, num_agents, max_steps, dirty_cells):\n",
    "        self.num_agents = num_agents\n",
    "        self.max_steps = max_steps\n",
    "        self.dirty_cells = dirty_cells\n",
    "        self.grid = MultiGrid(width, height, torus=False)\n",
    "        self.steps = 0\n",
    "\n",
    "        # creamos la matriz de ceros\n",
    "        self.dirt = np.zeros((width, height))\n",
    "\n",
    "        # Activamos de forma aleatoria en los agentes\n",
    "        self.schedule = RandomActivation(self)\n",
    "\n",
    "        # Calculamos el número de celdas sucias\n",
    "        num_dirty_cells = int(dirty_cells * width * height)\n",
    "\n",
    "        # Crea una lista de celdas sucias\n",
    "        matrix = [(x, y) for x in range(width) for y in range(height)]\n",
    "        random.shuffle(matrix)\n",
    "        dirty_cells = matrix[:num_dirty_cells]\n",
    "        for cell in dirty_cells:\n",
    "            self.dirt[cell] = 1  # Marca las celdas sucias en la matriz\n",
    "\n",
    "        # Inicializamos nuestros agentes\n",
    "        for i in range(num_agents):\n",
    "            a = VacumAgent(i, self)  # Crea un nuevo agente\n",
    "            # Coloca el agente en la posición (1,1)\n",
    "            self.grid.place_agent(a, (1, 1))\n",
    "            self.schedule.add(a)  # Añademos el agente a la matriz\n",
    "\n",
    "    def count_dirt(self):\n",
    "        # Cuenta el número de celdas sucias\n",
    "        return sum(cell == 1 for cell in self.dirt.flatten())\n",
    "\n",
    "    def is_dirt(self, pos):\n",
    "        # Comprueba si una celda está sucia\n",
    "        return self.dirt[pos[0], pos[1]] == 1\n",
    "\n",
    "    def clean_dirt(self, pos):\n",
    "        # Limpia una celda\n",
    "        self.dirt[pos[0]][pos[1]] = 0\n",
    "\n",
    "    def step(self):\n",
    "        # Realiza un paso en la simulación\n",
    "        self.schedule.step()\n",
    "        self.steps += 1  # Incrementa el contador de pasos"
   ]
  },
  {
   "cell_type": "code",
   "execution_count": 4,
   "metadata": {},
   "outputs": [],
   "source": [
    "# Esta función es para correr el modelo.\n",
    "def run_model(grid_width, grid_height, agent_count, max_iterations, dirty_ratio):\n",
    "    simulation_model = VacumModel(\n",
    "        grid_width, grid_height, agent_count, max_iterations, dirty_ratio)\n",
    "\n",
    "    # Esta parte es la que sustituye al ciclo while que me dijo el profesor que usara,\n",
    "    # ya que lo que hago es tener un contador inicializado en 0 y que se vaya incrementando cada vez que se hace un step.\n",
    "    # Entonces cuando termine de limpiar el porcentaje de celdas limpias que yo determine, se detiene el ciclo y me va \n",
    "    # a dar el número de iteraciones que se hicieron y de esta manera puedo saber el tiempo que se tardo en limpiar N celdas.\n",
    "    iteration = 0\n",
    "    while iteration < max_iterations and np.any(simulation_model.dirt == 1):\n",
    "        simulation_model.step()\n",
    "        iteration += 1\n",
    "    return (\n",
    "        iteration,\n",
    "        (1 - np.mean(simulation_model.dirt)) * 100\n",
    "    )"
   ]
  },
  {
   "cell_type": "code",
   "execution_count": 7,
   "metadata": {},
   "outputs": [
    {
     "name": "stdout",
     "output_type": "stream",
     "text": [
      "Tiempo total de la ejecución:  4.6254048347473145\n",
      "Número de pasos realizados: 310565\n",
      "Porcentaje de celdas limpias: 100.0%\n"
     ]
    }
   ],
   "source": [
    "WIDTH = 100\n",
    "HEIGHT = 100\n",
    "NUM_AGENTS = 1\n",
    "MAX_STEPS = 100000000000000\n",
    "DIRTY_CELLS = 1\n",
    "\n",
    "start_time = time.time()\n",
    "result = run_model(WIDTH, HEIGHT, NUM_AGENTS, MAX_STEPS, DIRTY_CELLS)\n",
    "total_time = time.time() - start_time\n",
    "\n",
    "print(\"Tiempo total de la ejecución: \", total_time)\n",
    "print(\"Número de pasos realizados: \" + str(result[0]))\n",
    "print(\"Porcentaje de celdas limpias: \" + str(result[1]) + \"%\")"
   ]
  }
 ],
 "metadata": {
  "kernelspec": {
   "display_name": "Python 3",
   "language": "python",
   "name": "python3"
  },
  "language_info": {
   "codemirror_mode": {
    "name": "ipython",
    "version": 3
   },
   "file_extension": ".py",
   "mimetype": "text/x-python",
   "name": "python",
   "nbconvert_exporter": "python",
   "pygments_lexer": "ipython3",
   "version": "3.11.1"
  }
 },
 "nbformat": 4,
 "nbformat_minor": 2
}
