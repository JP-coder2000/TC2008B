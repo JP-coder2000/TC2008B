{
 "cells": [
  {
   "cell_type": "code",
   "execution_count": 37,
   "metadata": {},
   "outputs": [],
   "source": [
    "from mesa import Agent, Model\n",
    "from mesa.space import MultiGrid\n",
    "from mesa.time import RandomActivation\n",
    "from mesa.datacollection import DataCollector\n",
    "import matplotlib.pyplot as plt\n",
    "import matplotlib.animation as animation\n",
    "import numpy as np\n",
    "import pandas as pd\n",
    "import time\n",
    "import datetime"
   ]
  },
  {
   "cell_type": "code",
   "execution_count": 38,
   "metadata": {},
   "outputs": [],
   "source": [
    "class RoomCell(Agent):\n",
    "    def __init__(self, unique_id, model, initially_dirty):\n",
    "        super().__init__(unique_id, model)\n",
    "        self.dirty = initially_dirty\n",
    "    "
   ]
  },
  {
   "cell_type": "code",
   "execution_count": 39,
   "metadata": {},
   "outputs": [],
   "source": [
    "class VacuumAgent(Agent):\n",
    "    def __init__(self, unique_id, model):\n",
    "        super().__init__(unique_id, model)\n",
    "        self.pos = (1, 1)\n",
    "\n",
    "    def move(self):\n",
    "        possible_steps = self.model.grid.get_neighborhood(\n",
    "            self.pos, moore=True, include_center=False)\n",
    "        possible_steps = [\n",
    "            pos for pos in possible_steps if self.model.grid.is_cell_empty(pos)]\n",
    "        if possible_steps:\n",
    "            new_position = self.random.choice(possible_steps)\n",
    "            self.model.grid.move_agent(self, new_position)\n",
    "\n",
    "    def step(self):\n",
    "        cell_content = self.model.grid.get_cell_list_contents([self.pos])\n",
    "        if any(isinstance(content, RoomCell) and content.dirty for content in cell_content):\n",
    "            for content in cell_content:\n",
    "                if isinstance(content, RoomCell):\n",
    "                    content.dirty = False\n",
    "        else:\n",
    "            self.move()"
   ]
  },
  {
   "cell_type": "code",
   "execution_count": 40,
   "metadata": {},
   "outputs": [],
   "source": [
    "class RoomModel(Model):\n",
    "    def __init__(self, width, height, num_agents, dirty_percentage):\n",
    "        self.grid = MultiGrid(width, height, True)\n",
    "        self.schedule = RandomActivation(self)\n",
    "        self.dirty_cells = 0\n",
    "\n",
    "        self.floorgrid = np.random.random((width, height)) <= dirty_percentage\n",
    "\n",
    "        for (x, y), is_dirty in np.ndenumerate(self.floorgrid):\n",
    "            if is_dirty:\n",
    "                self.dirty_cells += 1\n",
    "            cell = RoomCell((x, y), self, is_dirty)\n",
    "            self.grid.place_agent(cell, (x, y))\n",
    "            self.schedule.add(cell)\n",
    "\n",
    "        for i in range(num_agents):\n",
    "            agent = VacuumAgent(i, self)\n",
    "            self.grid.place_agent(agent, (1, 1))\n",
    "            self.schedule.add(agent)\n",
    "\n",
    "    def step(self):\n",
    "        self.schedule.step()\n",
    "        self.dirty_cells = sum(1 for cell in self.schedule.agents if isinstance(\n",
    "            cell, RoomCell) and cell.dirty)"
   ]
  },
  {
   "cell_type": "code",
   "execution_count": 41,
   "metadata": {},
   "outputs": [],
   "source": [
    "def run_simulation(width, height, num_agents, dirty_percentage, max_steps):\n",
    "    model = RoomModel(width, height, num_agents, dirty_percentage)\n",
    "    for i in range(max_steps):\n",
    "        model.step()\n",
    "        if model.dirty_cells == 0:\n",
    "            print(f\"Todo el espacio está limpio después de {i} pasos.\")\n",
    "            break\n",
    "        if i in [100, 1000, 10000]:\n",
    "            print(\n",
    "                f\"Después de {i} pasos, el {model.dirty_cells / (width * height) * 100}% de las celdas están sucias.\")"
   ]
  },
  {
   "cell_type": "code",
   "execution_count": 42,
   "metadata": {},
   "outputs": [
    {
     "name": "stdout",
     "output_type": "stream",
     "text": [
      "Después de 100 pasos, el 89.51% de las celdas están sucias.\n",
      "Después de 1000 pasos, el 89.51% de las celdas están sucias.\n"
     ]
    }
   ],
   "source": [
    "# Definir las variables\n",
    "M = 100\n",
    "N = 100\n",
    "NUMBER_OF_AGENTS = 1\n",
    "DIRTY_CELLS = 0.9\n",
    "TIME_OF_EXECUTION = 10000\n",
    "\n",
    "# Ejecutar la simulación\n",
    "run_simulation(M, N, NUMBER_OF_AGENTS, DIRTY_CELLS, TIME_OF_EXECUTION)"
   ]
  }
 ],
 "metadata": {
  "kernelspec": {
   "display_name": "Python 3",
   "language": "python",
   "name": "python3"
  },
  "language_info": {
   "codemirror_mode": {
    "name": "ipython",
    "version": 3
   },
   "file_extension": ".py",
   "mimetype": "text/x-python",
   "name": "python",
   "nbconvert_exporter": "python",
   "pygments_lexer": "ipython3",
   "version": "3.11.1"
  }
 },
 "nbformat": 4,
 "nbformat_minor": 2
}
